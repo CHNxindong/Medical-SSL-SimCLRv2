{
 "cells": [
  {
   "cell_type": "code",
   "execution_count": 1,
   "metadata": {},
   "outputs": [
    {
     "name": "stdout",
     "output_type": "stream",
     "text": [
      "2.3.0\n"
     ]
    }
   ],
   "source": [
    "import tensorflow as tf\n",
    "print(tf.__version__)"
   ]
  },
  {
   "cell_type": "code",
   "execution_count": 2,
   "metadata": {},
   "outputs": [
    {
     "name": "stdout",
     "output_type": "stream",
     "text": [
      "Tue Nov 24 07:41:44 2020       \r\n",
      "+-----------------------------------------------------------------------------+\r\n",
      "| NVIDIA-SMI 450.80.02    Driver Version: 450.80.02    CUDA Version: 11.0     |\r\n",
      "|-------------------------------+----------------------+----------------------+\r\n",
      "| GPU  Name        Persistence-M| Bus-Id        Disp.A | Volatile Uncorr. ECC |\r\n",
      "| Fan  Temp  Perf  Pwr:Usage/Cap|         Memory-Usage | GPU-Util  Compute M. |\r\n",
      "|                               |                      |               MIG M. |\r\n",
      "|===============================+======================+======================|\r\n",
      "|   0  GeForce GTX 106...  Off  | 00000000:2D:00.0  On |                  N/A |\r\n",
      "|  0%   48C    P0    27W / 140W |    809MiB /  6077MiB |      1%      Default |\r\n",
      "|                               |                      |                  N/A |\r\n",
      "+-------------------------------+----------------------+----------------------+\r\n",
      "                                                                               \r\n",
      "+-----------------------------------------------------------------------------+\r\n",
      "| Processes:                                                                  |\r\n",
      "|  GPU   GI   CI        PID   Type   Process name                  GPU Memory |\r\n",
      "|        ID   ID                                                   Usage      |\r\n",
      "|=============================================================================|\r\n",
      "+-----------------------------------------------------------------------------+\r\n"
     ]
    }
   ],
   "source": [
    "!nvidia-smi"
   ]
  },
  {
   "cell_type": "code",
   "execution_count": 4,
   "metadata": {},
   "outputs": [
    {
     "name": "stdout",
     "output_type": "stream",
     "text": [
      "Collecting imutils\n",
      "  Downloading imutils-0.5.3.tar.gz (17 kB)\n",
      "Building wheels for collected packages: imutils\n",
      "  Building wheel for imutils (setup.py) ... \u001b[?25ldone\n",
      "\u001b[?25h  Created wheel for imutils: filename=imutils-0.5.3-py3-none-any.whl size=26732 sha256=a1b354843d119aae68e41a014b794d89043ba3e7f95d9c1b528842d7a0e6ad0f\n",
      "  Stored in directory: /root/.cache/pip/wheels/27/4d/3a/6dcdf7c3ebc87bf1ae013d96c9cf060ccfe334bb5ee769f377\n",
      "Successfully built imutils\n",
      "Installing collected packages: imutils\n",
      "Successfully installed imutils-0.5.3\n",
      "\u001b[33mWARNING: You are using pip version 20.1.1; however, version 20.2.4 is available.\n",
      "You should consider upgrading via the '/usr/bin/python3 -m pip install --upgrade pip' command.\u001b[0m\n"
     ]
    }
   ],
   "source": [
    "!pip install imutils"
   ]
  },
  {
   "cell_type": "code",
   "execution_count": 5,
   "metadata": {},
   "outputs": [],
   "source": [
    "from tensorflow.keras.layers import *\n",
    "from tensorflow.keras.models import *\n",
    "import matplotlib.pyplot as plt\n",
    "from imutils import paths\n",
    "from tqdm import tqdm\n",
    "import tensorflow as tf\n",
    "import numpy as np\n",
    "import cv2"
   ]
  },
  {
   "cell_type": "code",
   "execution_count": null,
   "metadata": {},
   "outputs": [],
   "source": [
    "# Random seed fixation\n",
    "tf.random.set_seed(666)\n",
    "np.random.seed(666)"
   ]
  },
  {
   "cell_type": "code",
   "execution_count": 7,
   "metadata": {},
   "outputs": [],
   "source": [
    "dataset_loc = \"./Alzheimers_Dataset\"\n",
    "train_images = list(paths.list_images(dataset_loc+\"/train\"))"
   ]
  },
  {
   "cell_type": "code",
   "execution_count": 10,
   "metadata": {},
   "outputs": [
    {
     "data": {
      "text/plain": [
       "5121"
      ]
     },
     "execution_count": 10,
     "metadata": {},
     "output_type": "execute_result"
    }
   ],
   "source": [
    "len(train_images)"
   ]
  },
  {
   "cell_type": "code",
   "execution_count": 11,
   "metadata": {},
   "outputs": [],
   "source": [
    "# Augmentation utilities (differs from the original implementation)\n",
    "# Referred from: https://arxiv.org/pdf/2002.05709.pdf (Appendxi A \n",
    "# corresponding GitHub: https://github.com/google-research/simclr/)\n",
    "\n",
    "class CustomAugment(object):\n",
    "    def __call__(self, sample):        \n",
    "        # Random flips\n",
    "        sample = self._random_apply(tf.image.flip_left_right, sample, p=0.5)\n",
    "        \n",
    "        # Randomly apply transformation (color distortions) with probability p.\n",
    "        sample = self._random_apply(self._color_jitter, sample, p=0.8)\n",
    "        sample = self._random_apply(self._color_drop, sample, p=0.2)\n",
    "\n",
    "        return sample\n",
    "\n",
    "    def _color_jitter(self, x, s=1):\n",
    "        # one can also shuffle the order of following augmentations\n",
    "        # each time they are applied.\n",
    "        x = tf.image.random_brightness(x, max_delta=0.8*s)\n",
    "        x = tf.image.random_contrast(x, lower=1-0.8*s, upper=1+0.8*s)\n",
    "        x = tf.image.random_saturation(x, lower=1-0.8*s, upper=1+0.8*s)\n",
    "        x = tf.image.random_hue(x, max_delta=0.2*s)\n",
    "        x = tf.clip_by_value(x, 0, 1)\n",
    "        return x\n",
    "    \n",
    "    def _color_drop(self, x):\n",
    "        x = tf.image.rgb_to_grayscale(x)\n",
    "        x = tf.tile(x, [1, 1, 1, 3])\n",
    "        return x\n",
    "    \n",
    "    def _random_apply(self, func, x, p):\n",
    "        return tf.cond(\n",
    "          tf.less(tf.random.uniform([], minval=0, maxval=1, dtype=tf.float32),\n",
    "                  tf.cast(p, tf.float32)),\n",
    "          lambda: func(x),\n",
    "          lambda: x)"
   ]
  },
  {
   "cell_type": "code",
   "execution_count": 12,
   "metadata": {},
   "outputs": [],
   "source": [
    "# Build the augmentation pipeline\n",
    "data_augmentation = Sequential([Lambda(CustomAugment())])"
   ]
  },
  {
   "cell_type": "code",
   "execution_count": 13,
   "metadata": {},
   "outputs": [],
   "source": [
    "# Image preprocessing utils\n",
    "@tf.function\n",
    "def parse_images(image_path):\n",
    "    image_string = tf.io.read_file(image_path)\n",
    "    image = tf.image.decode_jpeg(image_string, channels=3)\n",
    "    image = tf.image.convert_image_dtype(image, tf.float32)\n",
    "    image = tf.image.resize(image, size=[224, 224])\n",
    "\n",
    "    return image"
   ]
  },
  {
   "cell_type": "code",
   "execution_count": 73,
   "metadata": {},
   "outputs": [],
   "source": [
    "# Create TensorFlow dataset\n",
    "BATCH_SIZE = 16\n",
    "\n",
    "train_ds = tf.data.Dataset.from_tensor_slices(train_images)\n",
    "train_ds = (\n",
    "    train_ds\n",
    "    .map(parse_images, num_parallel_calls=tf.data.experimental.AUTOTUNE)\n",
    "    .shuffle(1024)\n",
    "    .batch(BATCH_SIZE, drop_remainder=True)\n",
    "    .prefetch(tf.data.experimental.AUTOTUNE)\n",
    ")"
   ]
  },
  {
   "cell_type": "code",
   "execution_count": 74,
   "metadata": {},
   "outputs": [],
   "source": [
    "# Architecture utils\n",
    "def get_resnet_simclr(hidden_1, hidden_2, hidden_3):\n",
    "    base_model = tf.keras.applications.ResNet50(include_top=False, weights=None, input_shape=(224, 224, 3))\n",
    "    base_model.trainable = True\n",
    "    inputs = Input((224, 224, 3))\n",
    "    h = base_model(inputs, training=True)\n",
    "    h = GlobalAveragePooling2D()(h)\n",
    "\n",
    "    projection_1 = Dense(hidden_1)(h)\n",
    "    projection_1 = Activation(\"relu\")(projection_1)\n",
    "    projection_2 = Dense(hidden_2)(projection_1)\n",
    "    projection_2 = Activation(\"relu\")(projection_2)\n",
    "    projection_3 = Dense(hidden_3)(projection_2)\n",
    "\n",
    "    resnet_simclr = Model(inputs, projection_3)\n",
    "\n",
    "    return resnet_simclr"
   ]
  },
  {
   "cell_type": "code",
   "execution_count": 66,
   "metadata": {},
   "outputs": [
    {
     "name": "stdout",
     "output_type": "stream",
     "text": [
      "--2020-11-24 07:58:35--  https://raw.githubusercontent.com/sthalles/SimCLR-tensorflow/master/utils/helpers.py\n",
      "Resolving raw.githubusercontent.com (raw.githubusercontent.com)... 151.101.40.133\n",
      "Connecting to raw.githubusercontent.com (raw.githubusercontent.com)|151.101.40.133|:443... connected.\n",
      "HTTP request sent, awaiting response... 200 OK\n",
      "Length: 891 [text/plain]\n",
      "Saving to: ‘helpers.py.2’\n",
      "\n",
      "helpers.py.2        100%[===================>]     891  --.-KB/s    in 0.007s  \n",
      "\n",
      "2020-11-24 07:58:35 (120 KB/s) - ‘helpers.py.2’ saved [891/891]\n",
      "\n",
      "--2020-11-24 07:58:36--  https://raw.githubusercontent.com/sthalles/SimCLR-tensorflow/master/utils/losses.py\n",
      "Resolving raw.githubusercontent.com (raw.githubusercontent.com)... 151.101.40.133\n",
      "Connecting to raw.githubusercontent.com (raw.githubusercontent.com)|151.101.40.133|:443... connected.\n",
      "HTTP request sent, awaiting response... 200 OK\n",
      "Length: 891 [text/plain]\n",
      "Saving to: ‘losses.py.2’\n",
      "\n",
      "losses.py.2         100%[===================>]     891  --.-KB/s    in 0.001s  \n",
      "\n",
      "2020-11-24 07:58:36 (723 KB/s) - ‘losses.py.2’ saved [891/891]\n",
      "\n",
      "--2020-11-24 07:58:36--  https://raw.githubusercontent.com/sthalles/SimCLR-tensorflow/master/augmentation/gaussian_filter.py\n",
      "Resolving raw.githubusercontent.com (raw.githubusercontent.com)... 151.101.40.133\n",
      "Connecting to raw.githubusercontent.com (raw.githubusercontent.com)|151.101.40.133|:443... connected.\n",
      "HTTP request sent, awaiting response... 200 OK\n",
      "Length: 700 [text/plain]\n",
      "Saving to: ‘gaussian_filter.py.2’\n",
      "\n",
      "gaussian_filter.py. 100%[===================>]     700  --.-KB/s    in 0.001s  \n",
      "\n",
      "2020-11-24 07:58:36 (921 KB/s) - ‘gaussian_filter.py.2’ saved [700/700]\n",
      "\n"
     ]
    }
   ],
   "source": [
    "!wget https://raw.githubusercontent.com/sthalles/SimCLR-tensorflow/master/utils/helpers.py\n",
    "!wget https://raw.githubusercontent.com/sthalles/SimCLR-tensorflow/master/utils/losses.py\n",
    "!wget https://raw.githubusercontent.com/sthalles/SimCLR-tensorflow/master/augmentation/gaussian_filter.py"
   ]
  },
  {
   "cell_type": "code",
   "execution_count": 67,
   "metadata": {},
   "outputs": [],
   "source": [
    "# %load helpers.py\n",
    "# remove \"augmentation.\"\n",
    "# %writefile helpers.py\n",
    "import tensorflow as tf\n",
    "import numpy as np\n",
    "from gaussian_filter import GaussianBlur\n",
    "\n",
    "\n",
    "def get_negative_mask(batch_size):\n",
    "    # return a mask that removes the similarity score of equal/similar images.\n",
    "    # this function ensures that only distinct pair of images get their similarity scores\n",
    "    # passed as negative examples\n",
    "    negative_mask = np.ones((batch_size, 2 * batch_size), dtype=bool)\n",
    "    for i in range(batch_size):\n",
    "        negative_mask[i, i] = 0\n",
    "        negative_mask[i, i + batch_size] = 0\n",
    "    return tf.constant(negative_mask)\n",
    "\n",
    "\n",
    "def gaussian_filter(v1, v2):\n",
    "    k_size = int(v1.shape[1] * 0.1)  # kernel size is set to be 10% of the image height/width\n",
    "    gaussian_ope = GaussianBlur(kernel_size=k_size, min=0.1, max=2.0)\n",
    "    [v1, ] = tf.py_function(gaussian_ope, [v1], [tf.float32])\n",
    "    [v2, ] = tf.py_function(gaussian_ope, [v2], [tf.float32])\n",
    "    return v1, v2\n"
   ]
  },
  {
   "cell_type": "code",
   "execution_count": 75,
   "metadata": {},
   "outputs": [],
   "source": [
    "from losses import _dot_simililarity_dim1 as sim_func_dim1, _dot_simililarity_dim2 as sim_func_dim2\n",
    "import helpers"
   ]
  },
  {
   "cell_type": "code",
   "execution_count": 76,
   "metadata": {},
   "outputs": [],
   "source": [
    "# Mask to remove positive examples from the batch of negative samples\n",
    "negative_mask = helpers.get_negative_mask(BATCH_SIZE)"
   ]
  },
  {
   "cell_type": "code",
   "execution_count": 77,
   "metadata": {},
   "outputs": [],
   "source": [
    "\n",
    "@tf.function\n",
    "def train_step(xis, xjs, model, optimizer, criterion, temperature):\n",
    "    with tf.GradientTape() as tape:\n",
    "        zis = model(xis)\n",
    "        zjs = model(xjs)\n",
    "\n",
    "        # normalize projection feature vectors\n",
    "        zis = tf.math.l2_normalize(zis, axis=1)\n",
    "        zjs = tf.math.l2_normalize(zjs, axis=1)\n",
    "\n",
    "        l_pos = sim_func_dim1(zis, zjs)\n",
    "        l_pos = tf.reshape(l_pos, (BATCH_SIZE, 1))\n",
    "        l_pos /= temperature\n",
    "\n",
    "        negatives = tf.concat([zjs, zis], axis=0)\n",
    "\n",
    "        loss = 0\n",
    "\n",
    "        for positives in [zis, zjs]:\n",
    "            l_neg = sim_func_dim2(positives, negatives)\n",
    "\n",
    "            labels = tf.zeros(BATCH_SIZE, dtype=tf.int32)\n",
    "\n",
    "            l_neg = tf.boolean_mask(l_neg, negative_mask)\n",
    "            l_neg = tf.reshape(l_neg, (BATCH_SIZE, -1))\n",
    "            l_neg /= temperature\n",
    "\n",
    "            logits = tf.concat([l_pos, l_neg], axis=1) \n",
    "            loss += criterion(y_pred=logits, y_true=labels)\n",
    "\n",
    "        loss = loss / (2 * BATCH_SIZE)\n",
    "\n",
    "    gradients = tape.gradient(loss, model.trainable_variables)\n",
    "    optimizer.apply_gradients(zip(gradients, model.trainable_variables))\n",
    "\n",
    "    return loss"
   ]
  },
  {
   "cell_type": "code",
   "execution_count": 78,
   "metadata": {},
   "outputs": [],
   "source": [
    "def train_simclr(model, dataset, optimizer, criterion,\n",
    "                 temperature=0.1, epochs=100):\n",
    "    step_wise_loss = []\n",
    "    epoch_wise_loss = []\n",
    "\n",
    "    for epoch in tqdm(range(epochs)):\n",
    "        for image_batch in dataset:\n",
    "            a = data_augmentation(image_batch)\n",
    "            b = data_augmentation(image_batch)\n",
    "\n",
    "            loss = train_step(a, b, model, optimizer, criterion, temperature)\n",
    "            step_wise_loss.append(loss)\n",
    "\n",
    "        epoch_wise_loss.append(np.mean(step_wise_loss))\n",
    "        #wandb.log({\"nt_xentloss\": np.mean(step_wise_loss)})\n",
    "        \n",
    "        if epoch % 10 == 0:\n",
    "            print(\"epoch: {} loss: {:.3f}\".format(epoch + 1, np.mean(step_wise_loss)))\n",
    "\n",
    "    return epoch_wise_loss, model"
   ]
  },
  {
   "cell_type": "code",
   "execution_count": 79,
   "metadata": {
    "scrolled": true
   },
   "outputs": [
    {
     "name": "stderr",
     "output_type": "stream",
     "text": [
      "  0%|          | 1/200 [02:26<8:05:02, 146.24s/it]"
     ]
    },
    {
     "name": "stdout",
     "output_type": "stream",
     "text": [
      "epoch: 1 loss: 2.810\n"
     ]
    },
    {
     "name": "stderr",
     "output_type": "stream",
     "text": [
      "  6%|▌         | 11/200 [25:43<7:20:12, 139.75s/it]"
     ]
    },
    {
     "name": "stdout",
     "output_type": "stream",
     "text": [
      "epoch: 11 loss: 1.354\n"
     ]
    },
    {
     "name": "stderr",
     "output_type": "stream",
     "text": [
      " 10%|█         | 21/200 [48:57<6:55:49, 139.38s/it]"
     ]
    },
    {
     "name": "stdout",
     "output_type": "stream",
     "text": [
      "epoch: 21 loss: 1.286\n"
     ]
    },
    {
     "name": "stderr",
     "output_type": "stream",
     "text": [
      " 16%|█▌        | 31/200 [1:12:10<6:32:15, 139.26s/it]"
     ]
    },
    {
     "name": "stdout",
     "output_type": "stream",
     "text": [
      "epoch: 31 loss: 1.251\n"
     ]
    },
    {
     "name": "stderr",
     "output_type": "stream",
     "text": [
      " 20%|██        | 41/200 [1:35:22<6:09:03, 139.27s/it]"
     ]
    },
    {
     "name": "stdout",
     "output_type": "stream",
     "text": [
      "epoch: 41 loss: 1.229\n"
     ]
    },
    {
     "name": "stderr",
     "output_type": "stream",
     "text": [
      " 26%|██▌       | 51/200 [1:58:35<5:45:51, 139.27s/it]"
     ]
    },
    {
     "name": "stdout",
     "output_type": "stream",
     "text": [
      "epoch: 51 loss: 1.215\n"
     ]
    },
    {
     "name": "stderr",
     "output_type": "stream",
     "text": [
      " 30%|███       | 61/200 [2:21:47<5:22:34, 139.24s/it]"
     ]
    },
    {
     "name": "stdout",
     "output_type": "stream",
     "text": [
      "epoch: 61 loss: 1.213\n"
     ]
    },
    {
     "name": "stderr",
     "output_type": "stream",
     "text": [
      " 36%|███▌      | 71/200 [2:44:59<4:59:13, 139.17s/it]"
     ]
    },
    {
     "name": "stdout",
     "output_type": "stream",
     "text": [
      "epoch: 71 loss: 1.209\n"
     ]
    },
    {
     "name": "stderr",
     "output_type": "stream",
     "text": [
      " 40%|████      | 81/200 [3:08:11<4:36:08, 139.23s/it]"
     ]
    },
    {
     "name": "stdout",
     "output_type": "stream",
     "text": [
      "epoch: 81 loss: 1.204\n"
     ]
    },
    {
     "name": "stderr",
     "output_type": "stream",
     "text": [
      " 46%|████▌     | 91/200 [3:31:24<4:13:08, 139.34s/it]"
     ]
    },
    {
     "name": "stdout",
     "output_type": "stream",
     "text": [
      "epoch: 91 loss: 1.203\n"
     ]
    },
    {
     "name": "stderr",
     "output_type": "stream",
     "text": [
      " 50%|█████     | 101/200 [3:54:37<3:49:52, 139.31s/it]"
     ]
    },
    {
     "name": "stdout",
     "output_type": "stream",
     "text": [
      "epoch: 101 loss: 1.201\n"
     ]
    },
    {
     "name": "stderr",
     "output_type": "stream",
     "text": [
      " 56%|█████▌    | 111/200 [4:17:49<3:26:36, 139.29s/it]"
     ]
    },
    {
     "name": "stdout",
     "output_type": "stream",
     "text": [
      "epoch: 111 loss: 1.195\n"
     ]
    },
    {
     "name": "stderr",
     "output_type": "stream",
     "text": [
      " 60%|██████    | 121/200 [4:41:02<3:03:21, 139.26s/it]"
     ]
    },
    {
     "name": "stdout",
     "output_type": "stream",
     "text": [
      "epoch: 121 loss: 1.191\n"
     ]
    },
    {
     "name": "stderr",
     "output_type": "stream",
     "text": [
      " 66%|██████▌   | 131/200 [5:04:15<2:40:10, 139.28s/it]"
     ]
    },
    {
     "name": "stdout",
     "output_type": "stream",
     "text": [
      "epoch: 131 loss: 1.185\n"
     ]
    },
    {
     "name": "stderr",
     "output_type": "stream",
     "text": [
      " 70%|███████   | 141/200 [5:27:27<2:16:57, 139.28s/it]"
     ]
    },
    {
     "name": "stdout",
     "output_type": "stream",
     "text": [
      "epoch: 141 loss: 1.181\n"
     ]
    },
    {
     "name": "stderr",
     "output_type": "stream",
     "text": [
      " 76%|███████▌  | 151/200 [5:50:40<1:53:45, 139.30s/it]"
     ]
    },
    {
     "name": "stdout",
     "output_type": "stream",
     "text": [
      "epoch: 151 loss: 1.181\n"
     ]
    },
    {
     "name": "stderr",
     "output_type": "stream",
     "text": [
      " 80%|████████  | 161/200 [6:13:53<1:30:33, 139.31s/it]"
     ]
    },
    {
     "name": "stdout",
     "output_type": "stream",
     "text": [
      "epoch: 161 loss: 1.181\n"
     ]
    },
    {
     "name": "stderr",
     "output_type": "stream",
     "text": [
      " 86%|████████▌ | 171/200 [6:37:06<1:07:20, 139.34s/it]"
     ]
    },
    {
     "name": "stdout",
     "output_type": "stream",
     "text": [
      "epoch: 171 loss: 1.178\n"
     ]
    },
    {
     "name": "stderr",
     "output_type": "stream",
     "text": [
      " 90%|█████████ | 181/200 [7:00:19<44:07, 139.32s/it]  "
     ]
    },
    {
     "name": "stdout",
     "output_type": "stream",
     "text": [
      "epoch: 181 loss: 1.175\n"
     ]
    },
    {
     "name": "stderr",
     "output_type": "stream",
     "text": [
      " 96%|█████████▌| 191/200 [7:23:32<20:54, 139.41s/it]"
     ]
    },
    {
     "name": "stdout",
     "output_type": "stream",
     "text": [
      "epoch: 191 loss: 1.175\n"
     ]
    },
    {
     "name": "stderr",
     "output_type": "stream",
     "text": [
      "100%|██████████| 200/200 [7:43:50<00:00, 139.15s/it]\n",
      "findfont: Font family ['xkcd', 'xkcd Script', 'Humor Sans', 'Comic Neue', 'Comic Sans MS'] not found. Falling back to DejaVu Sans.\n",
      "findfont: Font family ['xkcd', 'xkcd Script', 'Humor Sans', 'Comic Neue', 'Comic Sans MS'] not found. Falling back to DejaVu Sans.\n"
     ]
    },
    {
     "data": {
      "image/png": "[encoded data removed]",
      "text/plain": [
       "<Figure size 432x288 with 1 Axes>"
      ]
     },
     "metadata": {},
     "output_type": "display_data"
    }
   ],
   "source": [
    "\n",
    "criterion = tf.keras.losses.SparseCategoricalCrossentropy(from_logits=True, \n",
    "                                                          reduction=tf.keras.losses.Reduction.SUM)\n",
    "decay_steps = 1000\n",
    "lr_decayed_fn = tf.keras.experimental.CosineDecay(\n",
    "    initial_learning_rate=0.1, decay_steps=decay_steps)\n",
    "optimizer = tf.keras.optimizers.SGD(lr_decayed_fn)\n",
    "\n",
    "resnet_simclr_2 = get_resnet_simclr(256, 128, 50)\n",
    "\n",
    "epoch_wise_loss, resnet_simclr  = train_simclr(resnet_simclr_2, train_ds, optimizer, criterion,\n",
    "                 temperature=0.1, epochs=200)\n",
    "\n",
    "with plt.xkcd():\n",
    "    plt.plot(epoch_wise_loss)\n",
    "    plt.title(\"tau = 0.1, h1 = 256, h2 = 128, h3 = 50\")\n",
    "    plt.show()"
   ]
  },
  {
   "cell_type": "code",
   "execution_count": 80,
   "metadata": {},
   "outputs": [
    {
     "name": "stdout",
     "output_type": "stream",
     "text": [
      "20201124-154539resnet_simclr.h5\n"
     ]
    }
   ],
   "source": [
    "import datetime\n",
    "filename = datetime.datetime.now().strftime(\"%Y%m%d-%H%M%S\") + \"resnet_simclr.h5\"\n",
    "print(filename)\n",
    "resnet_simclr.save_weights(filename)"
   ]
  },
  {
   "cell_type": "code",
   "execution_count": null,
   "metadata": {},
   "outputs": [],
   "source": []
  }
 ],
 "metadata": {
  "kernelspec": {
   "display_name": "Python 3",
   "language": "python",
   "name": "python3"
  },
  "language_info": {
   "codemirror_mode": {
    "name": "ipython",
    "version": 3
   },
   "file_extension": ".py",
   "mimetype": "text/x-python",
   "name": "python",
   "nbconvert_exporter": "python",
   "pygments_lexer": "ipython3",
   "version": "3.6.12"
  }
 },
 "nbformat": 4,
 "nbformat_minor": 2
}
